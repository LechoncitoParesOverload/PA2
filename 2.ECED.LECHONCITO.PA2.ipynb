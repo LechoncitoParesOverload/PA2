{
 "cells": [
  {
   "cell_type": "code",
   "execution_count": 37,
   "id": "06428037-30f6-4b34-b452-a6a33bdad9ab",
   "metadata": {},
   "outputs": [
    {
     "name": "stdout",
     "output_type": "stream",
     "text": [
      "Original Array = \n",
      " [[0.13659824 0.24805351 0.66086627 0.03919596 0.32467807]\n",
      " [0.53922769 0.92158615 0.23185354 0.84181312 0.87706005]\n",
      " [0.01299684 0.26333249 0.15626651 0.57736303 0.41839591]\n",
      " [0.12404907 0.63054773 0.75452456 0.95074199 0.4462766 ]\n",
      " [0.63198291 0.0906719  0.72314276 0.65573467 0.55867907]]\n",
      "\n",
      "Normalized Array = \n",
      " [[-1.1673233  -0.78013948  0.65392835 -1.50568849 -0.51395387]\n",
      " [ 0.23136881  1.5596416  -0.83641646  1.28251855  1.40496265]\n",
      " [-1.59670146 -0.7270619  -1.09899778  0.36384692 -0.188388  ]\n",
      " [-1.21091778  0.54860496  0.97928734  1.6609259  -0.09153346]\n",
      " [ 0.55359061 -1.32686651  0.8702703   0.6361017   0.29894083]]\n"
     ]
    }
   ],
   "source": [
    "import numpy as np\n",
    "\n",
    "#Code to generate a random 5x5 array and store the values in the variable \"X\"\n",
    "X = np.random.rand(5, 5)\n",
    "\n",
    "#Formula for Normalized X (Subtracting X from its mean and divide it with its standard deviation)\n",
    "#.mean() is used to generate element wise mean and .std() for element-wise standard deviation\n",
    "X_normalized = ((X - X.mean()) / X.std())\n",
    "\n",
    "#Save the normalized array as X_normalized.npy\n",
    "np.save('X_normalized.npy', X_normalized)\n",
    "\n",
    "#Outputting the original and normalized value of the array\n",
    "print(\"Original Array = \\n\", X)\n",
    "print(\"\\nNormalized Array = \\n\", X_normalized)"
   ]
  },
  {
   "cell_type": "code",
   "execution_count": 65,
   "id": "09a40ab8-3580-42dd-bb2c-9dac3383b0b8",
   "metadata": {},
   "outputs": [
    {
     "name": "stdout",
     "output_type": "stream",
     "text": [
      "A = \n",
      " [[    1     4     9    16    25    36    49    64    81   100]\n",
      " [  121   144   169   196   225   256   289   324   361   400]\n",
      " [  441   484   529   576   625   676   729   784   841   900]\n",
      " [  961  1024  1089  1156  1225  1296  1369  1444  1521  1600]\n",
      " [ 1681  1764  1849  1936  2025  2116  2209  2304  2401  2500]\n",
      " [ 2601  2704  2809  2916  3025  3136  3249  3364  3481  3600]\n",
      " [ 3721  3844  3969  4096  4225  4356  4489  4624  4761  4900]\n",
      " [ 5041  5184  5329  5476  5625  5776  5929  6084  6241  6400]\n",
      " [ 6561  6724  6889  7056  7225  7396  7569  7744  7921  8100]\n",
      " [ 8281  8464  8649  8836  9025  9216  9409  9604  9801 10000]]\n",
      "\n",
      "Values divisible by 3 = \n",
      " [   9   36   81  144  225  324  441  576  729  900 1089 1296 1521 1764\n",
      " 2025 2304 2601 2916 3249 3600 3969 4356 4761 5184 5625 6084 6561 7056\n",
      " 7569 8100 8649 9216 9801]\n"
     ]
    }
   ],
   "source": [
    "#Line of code to initiate 100 integers and reshape to 10x10 array and square them \n",
    "A = np.arange(1, 101).reshape(10, 10) ** 2\n",
    "\n",
    "#Determine the elements which are divisible by 3\n",
    "div_by_3 = A[A % 3 == 0]\n",
    "\n",
    "#Save the integers divisible by 3 to div_by_3.npy\n",
    "np.save('div_by_3.npy', div_by_3)\n",
    "\n",
    "#Outputting the original 10x10 array and the values divisible by 3\n",
    "print(\"A = \\n\", A)\n",
    "print(\"\\nValues divisible by 3 = \\n\", div_by_3)"
   ]
  },
  {
   "cell_type": "code",
   "execution_count": null,
   "id": "b8c0d3fa-4aec-42cf-8c0c-6609e9bf499a",
   "metadata": {},
   "outputs": [],
   "source": []
  }
 ],
 "metadata": {
  "kernelspec": {
   "display_name": "Python 3 (ipykernel)",
   "language": "python",
   "name": "python3"
  },
  "language_info": {
   "codemirror_mode": {
    "name": "ipython",
    "version": 3
   },
   "file_extension": ".py",
   "mimetype": "text/x-python",
   "name": "python",
   "nbconvert_exporter": "python",
   "pygments_lexer": "ipython3",
   "version": "3.12.4"
  }
 },
 "nbformat": 4,
 "nbformat_minor": 5
}
